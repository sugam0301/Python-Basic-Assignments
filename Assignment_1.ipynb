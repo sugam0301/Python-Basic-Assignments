{
  "nbformat": 4,
  "nbformat_minor": 0,
  "metadata": {
    "colab": {
      "name": "Assignment 1.ipynb",
      "provenance": [],
      "collapsed_sections": []
    },
    "kernelspec": {
      "name": "python3",
      "display_name": "Python 3"
    },
    "language_info": {
      "name": "python"
    }
  },
  "cells": [
    {
      "cell_type": "markdown",
      "metadata": {
        "id": "_eWnBu9L7ZyR"
      },
      "source": [
        "1. In the below elements which of them are values or an expression? eg:- values can be\n",
        "integer or string and expressions will be mathematical operators.\n",
        "*\n",
        "-87.8\n",
        "-\n",
        "/\n",
        "+\n",
        "6"
      ]
    },
    {
      "cell_type": "markdown",
      "metadata": {
        "id": "gzlR_lEW7wCk"
      },
      "source": [
        " Soln .1)   Operators(Expressions) are * , - , / , +"
      ]
    },
    {
      "cell_type": "markdown",
      "metadata": {
        "id": "g5rDGn_N8BFf"
      },
      "source": [
        "Q2.) What is the difference between string and variable?\n",
        "\n",
        "Soln.2)  String is data structure in which data in stored . It is immutable and is enclosed in double quotes.\n",
        "\n",
        "         Variable is used to represent any value.Rules for making a valid variable name:\n",
        "         1.It should start with an alphabet and not with any number/integer.\n",
        "         2.It should contain any symbols like &,*,#,etc.\n",
        "\n",
        "         Example: st=\"Sugam\"\n",
        "         Here, st is the variable and its value is a string."
      ]
    },
    {
      "cell_type": "markdown",
      "metadata": {
        "id": "gM3Uc8da-IAM"
      },
      "source": [
        ""
      ]
    },
    {
      "cell_type": "markdown",
      "metadata": {
        "id": "y60Vgfjm8BJo"
      },
      "source": [
        "Q 3. Describe three different data types.\n",
        "\n",
        " Soln.3) \n",
        " 1. Numeric \n",
        " \n",
        " a. Integer(int) - It a data type which contains +ve or whole numbers.\n",
        "\n",
        " b. Complex - they are represented as a+bj where j is the\n",
        " complex number and they are imaginary numbers.\n",
        "\n",
        " c.  Float - It contains values with decimal points and its value from 2^-64 to 2^63.\n",
        "\n",
        "\n",
        " 2. Sequence\n",
        "\n",
        " a. Strings- Characters stored contiguosly and enclosed in double quotes.\n",
        "\n",
        " b. List - Can store any type of values and all values can be of different data types.\n",
        "\n",
        " c. Tuples- It can stored values the same way as lists but these are immutable and only one data type can be stored in a tuple.\n",
        "\n",
        "3. Boolean \n",
        "\n",
        "It accepts values as True or False.\n",
        "True can also be written as 1 and false as 0.\n",
        "\n",
        "4. Dictionary\n",
        "\n",
        "5. Set\n",
        "\n"
      ]
    },
    {
      "cell_type": "markdown",
      "metadata": {
        "id": "w-IZHgMC8BMT"
      },
      "source": [
        "4. What is an expression made up of? What do all expressions do?\n",
        "\n",
        "Soln.4)\n",
        "An expression is made up of operators and operands .\n",
        "Expressions return a value using mathematical operations"
      ]
    },
    {
      "cell_type": "markdown",
      "metadata": {
        "id": "yU4kJNrW8BOP"
      },
      "source": [
        "Q5. This assignment statements, like spam = 10. What is the difference between an\n",
        "expression and a statement?\n",
        "Q6. After running the following code, what does the variable bacon contain?\n",
        "\n",
        "bacon = 22\n",
        "bacon + 1\n",
        "\n",
        "Q7. What should the values of the following two terms be?\n",
        "\n",
        "\"spam\" + \"spamspam\"\n",
        "\n",
        "\"spam\" * 3\n",
        "\n",
        "Q8. Why is eggs a valid variable name while 100 is invalid?\n"
      ]
    },
    {
      "cell_type": "markdown",
      "metadata": {
        "id": "9NVCq4cAQjls"
      },
      "source": [
        "Soln. 5) Expression evaluates value while statement doesnt.\n",
        "\n",
        "Soln.6)  22\n",
        "\n",
        "Soln 7) \"spamspamspam\"\n",
        "\n",
        "\"spamspamspam\"\n",
        "\n",
        "Soln.8 ) A variable name should contain first character as alphabet or underscore and then numbers can be used to name it but 100 for example cant be a valid name as it starts with a number."
      ]
    }
  ]
}