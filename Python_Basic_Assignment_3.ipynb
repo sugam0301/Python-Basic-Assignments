{
  "nbformat": 4,
  "nbformat_minor": 0,
  "metadata": {
    "colab": {
      "name": "Python Basic Assignment-3.ipynb",
      "provenance": [],
      "authorship_tag": "ABX9TyMbSWrF5/gHqLGdUu7gPskX",
      "include_colab_link": true
    },
    "kernelspec": {
      "name": "python3",
      "display_name": "Python 3"
    },
    "language_info": {
      "name": "python"
    }
  },
  "cells": [
    {
      "cell_type": "markdown",
      "metadata": {
        "id": "view-in-github",
        "colab_type": "text"
      },
      "source": [
        "<a href=\"https://colab.research.google.com/github/sugam0301/Python-Basic-Assignments/blob/main/Python_Basic_Assignment_3.ipynb\" target=\"_parent\"><img src=\"https://colab.research.google.com/assets/colab-badge.svg\" alt=\"Open In Colab\"/></a>"
      ]
    },
    {
      "cell_type": "markdown",
      "metadata": {
        "id": "AZdAwo2ShVQU"
      },
      "source": [
        "1. Why are functions advantageous to have in your programs?\n",
        "2. When does the code in a function run: when it&#39;s specified or when it&#39;s called?\n",
        "3. What statement creates a function?\n",
        "4. What is the difference between a function and a function call?\n",
        "5. How many global scopes are there in a Python program? How many local scopes?\n",
        "6. What happens to variables in a local scope when the function call returns?\n",
        "7. What is the concept of a return value? Is it possible to have a return value in an expression?\n",
        "8. If a function does not have a return statement, what is the return value of a call to that function?\n",
        "9. How do you make a function variable refer to the global variable?\n",
        "10. What is the data type of None?\n",
        "11. What does the sentence import areallyourpetsnamederic do?\n",
        "12. If you had a bacon() feature in a spam module, what would you call it after importing spam?\n",
        "13. What can you do to save a programme from crashing if it encounters an error?\n",
        "14. What is the purpose of the try clause? What is the purpose of the except clause?"
      ]
    },
    {
      "cell_type": "markdown",
      "metadata": {
        "id": "M8fQ0iE-hb1S"
      },
      "source": [
        "#soln 1\n",
        "Functions are beneficial when you are to do some task again and again and also make our code again. They are thus great for reusability in code."
      ]
    },
    {
      "cell_type": "markdown",
      "metadata": {
        "id": "vrW7YYwdhbxs"
      },
      "source": [
        "#soln 2\n",
        "When its called"
      ]
    },
    {
      "cell_type": "markdown",
      "metadata": {
        "id": "lnbX8p32hbvQ"
      },
      "source": [
        "#soln 3\n",
        "def function(parameters):"
      ]
    },
    {
      "cell_type": "markdown",
      "metadata": {
        "id": "Z3M19tD6hbsr"
      },
      "source": [
        "#soln 4\n",
        "Function just define an operation or task to be performed but dont make any effect on the actual output unless and until it is called.\n",
        "Function call is using the task which was defined by the function."
      ]
    },
    {
      "cell_type": "markdown",
      "metadata": {
        "id": "pOwN-nmQhbqE"
      },
      "source": [
        ""
      ]
    },
    {
      "cell_type": "markdown",
      "metadata": {
        "id": "0htmlbMmhbnU"
      },
      "source": [
        "#soln 5\n",
        "Only 1 global scope in the function.\n",
        "Infinite number of local scopes\n"
      ]
    },
    {
      "cell_type": "markdown",
      "metadata": {
        "id": "Xktdgxaphbkt"
      },
      "source": [
        "#soln 6\n",
        "They are destroyed and can not be used outside the fxn."
      ]
    },
    {
      "cell_type": "markdown",
      "metadata": {
        "id": "sqy-VVqli7SS"
      },
      "source": [
        "#soln 7\n",
        "The return value is used to return to the main function from where it was called. By return value, the function gives its value."
      ]
    },
    {
      "cell_type": "markdown",
      "metadata": {
        "id": "CUXvjkoqi6tp"
      },
      "source": [
        "#soln 8\n",
        "void"
      ]
    },
    {
      "cell_type": "markdown",
      "metadata": {
        "id": "jn8_YBeojXak"
      },
      "source": [
        "#soln 9\n",
        "We use the global keyword to declare those  variables which are are global."
      ]
    },
    {
      "cell_type": "markdown",
      "metadata": {
        "id": "i3cEqviTjXLl"
      },
      "source": [
        ""
      ]
    },
    {
      "cell_type": "markdown",
      "metadata": {
        "id": "RLxLo7r3jWzC"
      },
      "source": [
        "#soln 10\n",
        "null or void"
      ]
    },
    {
      "cell_type": "markdown",
      "metadata": {
        "id": "pHIlAOxzjqll"
      },
      "source": [
        "#soln 11\n",
        "It imports a library into our program."
      ]
    },
    {
      "cell_type": "markdown",
      "metadata": {
        "id": "HEdBRN4XjzGV"
      },
      "source": [
        "#soln 12\n",
        "spam.bacon()"
      ]
    },
    {
      "cell_type": "markdown",
      "metadata": {
        "id": "lkjMJtyXj3FD"
      },
      "source": [
        "#soln 13\n",
        "Ctrl+C"
      ]
    },
    {
      "cell_type": "markdown",
      "metadata": {
        "id": "9wgnjbr5j6tQ"
      },
      "source": [
        "#soln 14\n",
        "\n",
        "try: everything gets executed till any exception or error occurs.\n",
        "except: they are used to catch and handle the exceptions that are observed in try clause."
      ]
    }
  ]
}
