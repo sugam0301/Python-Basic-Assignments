{
  "nbformat": 4,
  "nbformat_minor": 0,
  "metadata": {
    "colab": {
      "name": "Python Basic Assignment-2.ipynb",
      "provenance": [],
      "authorship_tag": "ABX9TyPUKRoP0VC+8xzW0knOGF9w",
      "include_colab_link": true
    },
    "kernelspec": {
      "name": "python3",
      "display_name": "Python 3"
    },
    "language_info": {
      "name": "python"
    }
  },
  "cells": [
    {
      "cell_type": "markdown",
      "metadata": {
        "id": "view-in-github",
        "colab_type": "text"
      },
      "source": [
        "<a href=\"https://colab.research.google.com/github/sugam0301/Python-Basic-Assignments/blob/main/Python_Basic_Assignment_2.ipynb\" target=\"_parent\"><img src=\"https://colab.research.google.com/assets/colab-badge.svg\" alt=\"Open In Colab\"/></a>"
      ]
    },
    {
      "cell_type": "markdown",
      "metadata": {
        "id": "WgCZF-_KU9-D"
      },
      "source": [
        "**Questions**\n",
        "\n",
        "1.What are the two values of the Boolean data type? How do you write them?\n",
        "2. What are the three different types of Boolean operators?\n",
        "3. Make a list of each Boolean operator&#39;s truth tables (i.e. every possible combination of Boolean\n",
        "values for the operator and what it evaluate ).\n",
        "4. What are the values of the following expressions?\n",
        "(5 &gt; 4) and (3 == 5)\n",
        "not (5 &gt; 4)\n",
        "(5 &gt; 4) or (3 == 5)\n",
        "not ((5 &gt; 4) or (3 == 5))\n",
        "(True and True) and (True == False)\n",
        "(not False) or (not True)\n",
        "5. What are the six comparison operators?\n",
        "6. How do you tell the difference between the equal to and assignment operators?Describe a\n",
        "condition and when you would use one.\n",
        "7. Identify the three blocks in this code:\n",
        "\n",
        "spam = 0\n",
        "if spam == 10:\n",
        "print(&#39;eggs&#39;)\n",
        "\n",
        "if spam &gt; 5:\n",
        "print(&#39;bacon&#39;)\n",
        "\n",
        "else:\n",
        "print(&#39;ham&#39;)\n",
        "print(&#39;spam&#39;)\n",
        "print(&#39;spam&#39;)\n",
        "8. Write code that prints Hello if 1 is stored in spam, prints Howdy if 2 is stored in spam, and prints\n",
        "Greetings! if anything else is stored in spam.\n",
        "\n",
        "9.If your programme is stuck in an endless loop, what keys you’ll press?\n",
        "10. How can you tell the difference between break and continue?\n",
        "11. In a for loop, what is the difference between range(10), range(0, 10), and range(0, 10, 1)?\n",
        "12. Write a short program that prints the numbers 1 to 10 using a for loop. Then write an equivalent\n",
        "program that prints the numbers 1 to 10 using a while loop.\n",
        "13. If you had a function named bacon() inside a module named spam, how would you call it after\n",
        "importing spam?"
      ]
    },
    {
      "cell_type": "markdown",
      "metadata": {
        "id": "B4hgXABfVVLw"
      },
      "source": [
        "\n",
        "Soln. 1) True and False (first letter is capital)\n",
        "\n",
        "\n",
        "\n",
        "---\n",
        "\n",
        "\n",
        "\n",
        "\n",
        "Soln.2) and,or,not \n",
        "\n",
        "      If any of the conditions are true ,then **and** returns True otherwise false\n",
        "      If any of the conditions are true,then **or** returns true\n",
        "      If the condition is true ,then **not** return false and vice versa.\n",
        "\n",
        "---\n",
        "\n",
        "\n"
      ]
    },
    {
      "cell_type": "markdown",
      "metadata": {
        "id": "T5fa35fqW7NN"
      },
      "source": [
        "Soln 3) **and**\n",
        "\n",
        "A\tB\tQ\n",
        "\n",
        "0\t0\t0\n",
        "\n",
        "0\t1\t0\n",
        "\n",
        "1\t0\t0\n",
        "\n",
        "1\t1\t1\n",
        "\n",
        "\n",
        "**or** \n",
        "A\tB\tQ\n",
        "\n",
        "0\t0\t0\n",
        "\n",
        "0\t1\t1\n",
        "\n",
        "1\t0\t1\n",
        "\n",
        "1\t1\t1\n",
        "\n",
        "\n",
        "**not**\n",
        "\n",
        "A  Q\n",
        "\n",
        "0  1\n",
        "\n",
        "1  0\n"
      ]
    },
    {
      "cell_type": "markdown",
      "metadata": {
        "id": "tJDpy4L5XEwH"
      },
      "source": [
        "Soln. 4)   (5 > 4) and (3 == 5)   \n",
        "True\n",
        "\n",
        "not (5 > 4)     \n",
        "False\n",
        "\n",
        "(5 > 4) or (3 == 5)  \n",
        "True \n",
        "\n",
        "not ((5 > 4) or (3 == 5))      \n",
        "False\n",
        "\n",
        "(True and True) and (True == False)    \n",
        "False\n",
        "\n",
        " (not False) or (not True)   \n",
        " True"
      ]
    },
    {
      "cell_type": "markdown",
      "metadata": {
        "id": "PTLwC7t6Zndk"
      },
      "source": [
        "Soln. 5)  equal to ==, not equal to !=, greater than >, greater than or equal to  >=, less than <, and less than or equal to <=.\n",
        "\n",
        "\n",
        "\n",
        "---\n",
        "\n"
      ]
    },
    {
      "cell_type": "markdown",
      "metadata": {
        "id": "R3NSWiO8ZxbK"
      },
      "source": [
        "Soln 6). Assignment is used to assign a value to the variable. \n",
        "\n",
        "Equal to operator : used to check the condition if it true returns true else false.\n",
        "\n",
        "\n",
        "\n",
        "---\n",
        "\n",
        "\n",
        "\n",
        "\n",
        "\n",
        "\n",
        "Soln. 7)spam = 0\n",
        "\n",
        "block 1  \n",
        "if spam == 10: print('eggs')\n",
        "\n",
        "block 2\n",
        "if spam > 5: print('bacon')\n",
        "\n",
        "block 3\n",
        "else: print('ham') print('spam') print('spam')\n",
        "\n"
      ]
    },
    {
      "cell_type": "code",
      "metadata": {
        "colab": {
          "base_uri": "https://localhost:8080/"
        },
        "id": "Q1KMMsQag725",
        "outputId": "9fb5ec86-9fc2-4ef5-b358-ae5563fc8a9f"
      },
      "source": [
        "# Soln. 8\n",
        "\n",
        "spam=int(input())\n",
        "\n",
        "if(spam==1):\n",
        "  print(\"Hello\")\n",
        "\n",
        "elif(spam==2):\n",
        "    print(\"Howdy\")\n",
        "\n",
        "else:\n",
        "  print(\"Greetings\")"
      ],
      "execution_count": null,
      "outputs": [
        {
          "output_type": "stream",
          "text": [
            "4\n",
            "Greetings\n"
          ],
          "name": "stdout"
        }
      ]
    },
    {
      "cell_type": "markdown",
      "metadata": {
        "id": "RHUWfYoKhXhn"
      },
      "source": [
        "Soln.9)  Ctrl + C\n",
        "\n",
        "\n",
        "---\n",
        "\n",
        "\n",
        "Soln.10) Break is used to comeout of the loop when a certain condition is met.\n",
        "\n",
        "continue is used to skip that iteration whenever the condition becomes true.\n",
        "\n",
        "\n",
        "\n",
        "---\n",
        "\n",
        "Soln 11.) All give the same values from 0 to 9(both inclusive).\n",
        "\n"
      ]
    },
    {
      "cell_type": "markdown",
      "metadata": {
        "id": "Ymrgd6PZTk8n"
      },
      "source": [
        "\n",
        "\n",
        "\n",
        "---\n",
        "\n",
        "\n",
        "Soln. 12) \n"
      ]
    },
    {
      "cell_type": "code",
      "metadata": {
        "colab": {
          "base_uri": "https://localhost:8080/"
        },
        "id": "0KRc9Rc2ULWd",
        "outputId": "88126215-79ac-45aa-a82b-2c9beca7eb1c"
      },
      "source": [
        "for i in range(1,11,1):\n",
        "  print(i)\n",
        "\n",
        "print(\" \\n\")\n",
        "i=1;\n",
        "while(i<=10):\n",
        "  print(i)\n",
        "  i=i+1\n"
      ],
      "execution_count": null,
      "outputs": [
        {
          "output_type": "stream",
          "text": [
            "1\n",
            "2\n",
            "3\n",
            "4\n",
            "5\n",
            "6\n",
            "7\n",
            "8\n",
            "9\n",
            "10\n",
            " \n",
            "\n",
            "1\n",
            "2\n",
            "3\n",
            "4\n",
            "5\n",
            "6\n",
            "7\n",
            "8\n",
            "9\n",
            "10\n"
          ],
          "name": "stdout"
        }
      ]
    },
    {
      "cell_type": "markdown",
      "metadata": {
        "id": "ddkN20EaUyD1"
      },
      "source": [
        "Soln. 13)    import spam \n",
        "\n",
        "             bacon=spam.bacon()"
      ]
    }
  ]
}